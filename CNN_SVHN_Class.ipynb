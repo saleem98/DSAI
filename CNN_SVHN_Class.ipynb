{
 "cells": [
  {
   "cell_type": "code",
   "execution_count": 1,
   "id": "3d15101a",
   "metadata": {},
   "outputs": [],
   "source": [
    "import scipy.io as sio\n",
    "import numpy as np\n",
    "import tensorflow as tf\n",
    "from tensorflow.keras.preprocessing.image import ImageDataGenerator\n",
    "from tensorflow.keras import layers, models\n",
    "from tensorflow.keras.callbacks import EarlyStopping, ModelCheckpoint"
   ]
  },
  {
   "cell_type": "code",
   "execution_count": 2,
   "id": "5fea1290",
   "metadata": {},
   "outputs": [],
   "source": [
    "# Load training and test data\n",
    "train_data = sio.loadmat('C:/Users/hc/Desktop/DSAI/Module Project/DATASET/SVHN/train_32x32.mat')\n",
    "test_data = sio.loadmat('C:/Users/hc/Desktop/DSAI/Module Project/DATASET/SVHN/test_32x32.mat')"
   ]
  },
  {
   "cell_type": "code",
   "execution_count": 3,
   "id": "8ee3f316",
   "metadata": {},
   "outputs": [],
   "source": [
    "# Extract images and labels\n",
    "X_train = train_data['X']\n",
    "y_train = train_data['y'].flatten()\n",
    "X_test = test_data['X']\n",
    "y_test = test_data['y'].flatten()"
   ]
  },
  {
   "cell_type": "code",
   "execution_count": 4,
   "id": "c551ea4b",
   "metadata": {},
   "outputs": [],
   "source": [
    "# Fix the label issue\n",
    "y_train[y_train == 10] = 0\n",
    "y_test[y_test == 10] = 0"
   ]
  },
  {
   "cell_type": "code",
   "execution_count": 5,
   "id": "c2564877",
   "metadata": {},
   "outputs": [],
   "source": [
    "# Rearrange the data into (num_samples, height, width, channels)\n",
    "X_train = np.moveaxis(X_train, -1, 0)\n",
    "X_test = np.moveaxis(X_test, -1, 0)"
   ]
  },
  {
   "cell_type": "code",
   "execution_count": 6,
   "id": "11d9c0a5",
   "metadata": {},
   "outputs": [],
   "source": [
    "#print(f\"Reshaped Training data shape: {X_train.shape}\")"
   ]
  },
  {
   "cell_type": "code",
   "execution_count": 7,
   "id": "b0eecbc9",
   "metadata": {},
   "outputs": [],
   "source": [
    "# Data Preprocessing\n",
    "\n",
    "# Normalize the images to the range [0, 1]\n",
    "X_train = X_train.astype('float32') / 255.0\n",
    "X_test = X_test.astype('float32') / 255.0"
   ]
  },
  {
   "cell_type": "code",
   "execution_count": 8,
   "id": "0918695d",
   "metadata": {},
   "outputs": [],
   "source": [
    "# Data Augmentation\n",
    "datagen = ImageDataGenerator(\n",
    "    rotation_range=15,\n",
    "    zoom_range=0.1,\n",
    "    width_shift_range=0.1,\n",
    "    height_shift_range=0.1,\n",
    "    horizontal_flip=False\n",
    ")"
   ]
  },
  {
   "cell_type": "code",
   "execution_count": 9,
   "id": "0401933a",
   "metadata": {},
   "outputs": [],
   "source": [
    "# Fit the generator to the training data\n",
    "datagen.fit(X_train)"
   ]
  },
  {
   "cell_type": "code",
   "execution_count": 10,
   "id": "24f0bdad",
   "metadata": {},
   "outputs": [],
   "source": [
    "# Build the CNN Model\n",
    "model = models.Sequential([\n",
    "    # First Conv Block\n",
    "    layers.Conv2D(32, (3, 3), activation='relu', input_shape=(32, 32, 3)),\n",
    "    layers.MaxPooling2D((2, 2)),\n",
    "    layers.Dropout(0.2),\n",
    "\n",
    "    # Second Conv Block\n",
    "    layers.Conv2D(64, (3, 3), activation='relu'),\n",
    "    layers.MaxPooling2D((2, 2)),\n",
    "    layers.Dropout(0.2),\n",
    "\n",
    "    # Flatten and Fully Connected Layers\n",
    "    layers.Flatten(),\n",
    "    layers.Dense(128, activation='relu'),\n",
    "    layers.Dropout(0.3),\n",
    "    layers.Dense(10, activation='softmax')  # 10 classes for digits 0-9\n",
    "])"
   ]
  },
  {
   "cell_type": "code",
   "execution_count": 11,
   "id": "6c3be0be",
   "metadata": {},
   "outputs": [
    {
     "name": "stdout",
     "output_type": "stream",
     "text": [
      "Model: \"sequential\"\n",
      "_________________________________________________________________\n",
      " Layer (type)                Output Shape              Param #   \n",
      "=================================================================\n",
      " conv2d (Conv2D)             (None, 30, 30, 32)        896       \n",
      "                                                                 \n",
      " max_pooling2d (MaxPooling2  (None, 15, 15, 32)        0         \n",
      " D)                                                              \n",
      "                                                                 \n",
      " dropout (Dropout)           (None, 15, 15, 32)        0         \n",
      "                                                                 \n",
      " conv2d_1 (Conv2D)           (None, 13, 13, 64)        18496     \n",
      "                                                                 \n",
      " max_pooling2d_1 (MaxPoolin  (None, 6, 6, 64)          0         \n",
      " g2D)                                                            \n",
      "                                                                 \n",
      " dropout_1 (Dropout)         (None, 6, 6, 64)          0         \n",
      "                                                                 \n",
      " flatten (Flatten)           (None, 2304)              0         \n",
      "                                                                 \n",
      " dense (Dense)               (None, 128)               295040    \n",
      "                                                                 \n",
      " dropout_2 (Dropout)         (None, 128)               0         \n",
      "                                                                 \n",
      " dense_1 (Dense)             (None, 10)                1290      \n",
      "                                                                 \n",
      "=================================================================\n",
      "Total params: 315722 (1.20 MB)\n",
      "Trainable params: 315722 (1.20 MB)\n",
      "Non-trainable params: 0 (0.00 Byte)\n",
      "_________________________________________________________________\n"
     ]
    }
   ],
   "source": [
    "# Compile the model\n",
    "model.compile(optimizer='adam',\n",
    "              loss='sparse_categorical_crossentropy',\n",
    "              metrics=['accuracy'])\n",
    "\n",
    "model.summary()"
   ]
  },
  {
   "cell_type": "code",
   "execution_count": 12,
   "id": "85b79eb7",
   "metadata": {},
   "outputs": [],
   "source": [
    "# Train the Model\n",
    "\n",
    "\n",
    "# Define callbacks\n",
    "early_stopping = EarlyStopping(monitor='val_loss', patience=5, restore_best_weights=True)\n",
    "checkpoint = ModelCheckpoint('best_model.h5', save_best_only=True)"
   ]
  },
  {
   "cell_type": "code",
   "execution_count": 13,
   "id": "e9351f22",
   "metadata": {},
   "outputs": [
    {
     "name": "stdout",
     "output_type": "stream",
     "text": [
      "Epoch 1/50\n",
      "1145/1145 [==============================] - ETA: 0s - loss: 1.4270 - accuracy: 0.5223"
     ]
    },
    {
     "name": "stderr",
     "output_type": "stream",
     "text": [
      "C:\\Users\\hc\\anaconda3\\Lib\\site-packages\\keras\\src\\engine\\training.py:3000: UserWarning: You are saving your model as an HDF5 file via `model.save()`. This file format is considered legacy. We recommend using instead the native Keras format, e.g. `model.save('my_model.keras')`.\n",
      "  saving_api.save_model(\n"
     ]
    },
    {
     "name": "stdout",
     "output_type": "stream",
     "text": [
      "1145/1145 [==============================] - 209s 179ms/step - loss: 1.4270 - accuracy: 0.5223 - val_loss: 0.6063 - val_accuracy: 0.8302\n",
      "Epoch 2/50\n",
      "1145/1145 [==============================] - 215s 188ms/step - loss: 0.9533 - accuracy: 0.6965 - val_loss: 0.4982 - val_accuracy: 0.8639\n",
      "Epoch 3/50\n",
      "1145/1145 [==============================] - 232s 202ms/step - loss: 0.8478 - accuracy: 0.7308 - val_loss: 0.4536 - val_accuracy: 0.8765\n",
      "Epoch 4/50\n",
      "1145/1145 [==============================] - 249s 217ms/step - loss: 0.7876 - accuracy: 0.7508 - val_loss: 0.4081 - val_accuracy: 0.8868\n",
      "Epoch 5/50\n",
      "1145/1145 [==============================] - 249s 218ms/step - loss: 0.7509 - accuracy: 0.7629 - val_loss: 0.3857 - val_accuracy: 0.8928\n",
      "Epoch 6/50\n",
      "1145/1145 [==============================] - 263s 229ms/step - loss: 0.7153 - accuracy: 0.7731 - val_loss: 0.3738 - val_accuracy: 0.8940\n",
      "Epoch 7/50\n",
      "1145/1145 [==============================] - 242s 211ms/step - loss: 0.6876 - accuracy: 0.7815 - val_loss: 0.3438 - val_accuracy: 0.9042\n",
      "Epoch 8/50\n",
      "1145/1145 [==============================] - 247s 215ms/step - loss: 0.6686 - accuracy: 0.7899 - val_loss: 0.3560 - val_accuracy: 0.9008\n",
      "Epoch 9/50\n",
      "1145/1145 [==============================] - 245s 213ms/step - loss: 0.6482 - accuracy: 0.7970 - val_loss: 0.3431 - val_accuracy: 0.9048\n",
      "Epoch 10/50\n",
      "1145/1145 [==============================] - 231s 202ms/step - loss: 0.6362 - accuracy: 0.7994 - val_loss: 0.3526 - val_accuracy: 0.9019\n",
      "Epoch 11/50\n",
      "1145/1145 [==============================] - 244s 213ms/step - loss: 0.6263 - accuracy: 0.8037 - val_loss: 0.3356 - val_accuracy: 0.9070\n",
      "Epoch 12/50\n",
      "1145/1145 [==============================] - 247s 215ms/step - loss: 0.6160 - accuracy: 0.8057 - val_loss: 0.3086 - val_accuracy: 0.9127\n",
      "Epoch 13/50\n",
      "1145/1145 [==============================] - 243s 212ms/step - loss: 0.6050 - accuracy: 0.8110 - val_loss: 0.3012 - val_accuracy: 0.9168\n",
      "Epoch 14/50\n",
      "1145/1145 [==============================] - 234s 205ms/step - loss: 0.5920 - accuracy: 0.8151 - val_loss: 0.3000 - val_accuracy: 0.9174\n",
      "Epoch 15/50\n",
      "1145/1145 [==============================] - 243s 213ms/step - loss: 0.5925 - accuracy: 0.8148 - val_loss: 0.3044 - val_accuracy: 0.9170\n",
      "Epoch 16/50\n",
      "1145/1145 [==============================] - 247s 215ms/step - loss: 0.5832 - accuracy: 0.8189 - val_loss: 0.2926 - val_accuracy: 0.9196\n",
      "Epoch 17/50\n",
      "1145/1145 [==============================] - 245s 213ms/step - loss: 0.5789 - accuracy: 0.8196 - val_loss: 0.2898 - val_accuracy: 0.9219\n",
      "Epoch 18/50\n",
      "1145/1145 [==============================] - 247s 215ms/step - loss: 0.5766 - accuracy: 0.8190 - val_loss: 0.2885 - val_accuracy: 0.9202\n",
      "Epoch 19/50\n",
      "1145/1145 [==============================] - 248s 216ms/step - loss: 0.5683 - accuracy: 0.8224 - val_loss: 0.2842 - val_accuracy: 0.9218\n",
      "Epoch 20/50\n",
      "1145/1145 [==============================] - 247s 215ms/step - loss: 0.5680 - accuracy: 0.8231 - val_loss: 0.2756 - val_accuracy: 0.9262\n",
      "Epoch 21/50\n",
      "1145/1145 [==============================] - 245s 214ms/step - loss: 0.5629 - accuracy: 0.8241 - val_loss: 0.2956 - val_accuracy: 0.9194\n",
      "Epoch 22/50\n",
      "1145/1145 [==============================] - 166s 145ms/step - loss: 0.5580 - accuracy: 0.8254 - val_loss: 0.2777 - val_accuracy: 0.9222\n",
      "Epoch 23/50\n",
      "1145/1145 [==============================] - 152s 133ms/step - loss: 0.5516 - accuracy: 0.8282 - val_loss: 0.2737 - val_accuracy: 0.9237\n",
      "Epoch 24/50\n",
      "1145/1145 [==============================] - 152s 133ms/step - loss: 0.5482 - accuracy: 0.8287 - val_loss: 0.2728 - val_accuracy: 0.9257\n",
      "Epoch 25/50\n",
      "1145/1145 [==============================] - 151s 132ms/step - loss: 0.5402 - accuracy: 0.8312 - val_loss: 0.2788 - val_accuracy: 0.9252\n",
      "Epoch 26/50\n",
      "1145/1145 [==============================] - 147s 129ms/step - loss: 0.5420 - accuracy: 0.8298 - val_loss: 0.2715 - val_accuracy: 0.9251\n",
      "Epoch 27/50\n",
      "1145/1145 [==============================] - 147s 128ms/step - loss: 0.5362 - accuracy: 0.8329 - val_loss: 0.2690 - val_accuracy: 0.9269\n",
      "Epoch 28/50\n",
      "1145/1145 [==============================] - 148s 129ms/step - loss: 0.5401 - accuracy: 0.8329 - val_loss: 0.2624 - val_accuracy: 0.9281\n",
      "Epoch 29/50\n",
      "1145/1145 [==============================] - 145s 127ms/step - loss: 0.5338 - accuracy: 0.8350 - val_loss: 0.2713 - val_accuracy: 0.9256\n",
      "Epoch 30/50\n",
      "1145/1145 [==============================] - 149s 130ms/step - loss: 0.5326 - accuracy: 0.8347 - val_loss: 0.2653 - val_accuracy: 0.9278\n",
      "Epoch 31/50\n",
      "1145/1145 [==============================] - 150s 131ms/step - loss: 0.5253 - accuracy: 0.8360 - val_loss: 0.2711 - val_accuracy: 0.9287\n",
      "Epoch 32/50\n",
      "1145/1145 [==============================] - 149s 130ms/step - loss: 0.5259 - accuracy: 0.8364 - val_loss: 0.2778 - val_accuracy: 0.9229\n",
      "Epoch 33/50\n",
      "1145/1145 [==============================] - 148s 129ms/step - loss: 0.5222 - accuracy: 0.8379 - val_loss: 0.2598 - val_accuracy: 0.9296\n",
      "Epoch 34/50\n",
      "1145/1145 [==============================] - 149s 130ms/step - loss: 0.5212 - accuracy: 0.8377 - val_loss: 0.2597 - val_accuracy: 0.9295\n",
      "Epoch 35/50\n",
      "1145/1145 [==============================] - 147s 128ms/step - loss: 0.5258 - accuracy: 0.8365 - val_loss: 0.2714 - val_accuracy: 0.9271\n",
      "Epoch 36/50\n",
      "1145/1145 [==============================] - 148s 129ms/step - loss: 0.5159 - accuracy: 0.8386 - val_loss: 0.2599 - val_accuracy: 0.9287\n",
      "Epoch 37/50\n",
      "1145/1145 [==============================] - 148s 129ms/step - loss: 0.5122 - accuracy: 0.8405 - val_loss: 0.2522 - val_accuracy: 0.9332\n",
      "Epoch 38/50\n",
      "1145/1145 [==============================] - 150s 131ms/step - loss: 0.5081 - accuracy: 0.8426 - val_loss: 0.2683 - val_accuracy: 0.9258\n",
      "Epoch 39/50\n",
      "1145/1145 [==============================] - 148s 129ms/step - loss: 0.5074 - accuracy: 0.8430 - val_loss: 0.2563 - val_accuracy: 0.9307\n",
      "Epoch 40/50\n",
      "1145/1145 [==============================] - 149s 130ms/step - loss: 0.5007 - accuracy: 0.8437 - val_loss: 0.2660 - val_accuracy: 0.9281\n",
      "Epoch 41/50\n",
      "1145/1145 [==============================] - 148s 129ms/step - loss: 0.5099 - accuracy: 0.8426 - val_loss: 0.2607 - val_accuracy: 0.9299\n",
      "Epoch 42/50\n",
      "1145/1145 [==============================] - 148s 130ms/step - loss: 0.5086 - accuracy: 0.8443 - val_loss: 0.2646 - val_accuracy: 0.9276\n"
     ]
    }
   ],
   "source": [
    "# Train the model using the augmented data from ImageDataGenerator\n",
    "history = model.fit(datagen.flow(X_train, y_train, batch_size=64),\n",
    "                    epochs=50,\n",
    "                    validation_data=(X_test, y_test),\n",
    "                    callbacks=[early_stopping, checkpoint])"
   ]
  },
  {
   "cell_type": "code",
   "execution_count": 14,
   "id": "a9a86754",
   "metadata": {},
   "outputs": [],
   "source": [
    "# Evaluate the Model\n",
    "\n",
    "from sklearn.metrics import classification_report, confusion_matrix\n",
    "import seaborn as sns\n",
    "import matplotlib.pyplot as plt"
   ]
  },
  {
   "cell_type": "code",
   "execution_count": 15,
   "id": "5ada2519",
   "metadata": {},
   "outputs": [],
   "source": [
    "# Load the best model\n",
    "best_model = tf.keras.models.load_model('best_model.h5')"
   ]
  },
  {
   "cell_type": "code",
   "execution_count": 16,
   "id": "e6caae54",
   "metadata": {},
   "outputs": [
    {
     "name": "stdout",
     "output_type": "stream",
     "text": [
      "814/814 [==============================] - 10s 12ms/step - loss: 0.2522 - accuracy: 0.9332\n",
      "Test accuracy: 93.32%\n"
     ]
    }
   ],
   "source": [
    "# Evaluate the model on the test set\n",
    "test_loss, test_acc = best_model.evaluate(X_test, y_test)\n",
    "print(f\"Test accuracy: {test_acc * 100:.2f}%\")"
   ]
  },
  {
   "cell_type": "code",
   "execution_count": 17,
   "id": "2634e953",
   "metadata": {},
   "outputs": [
    {
     "name": "stdout",
     "output_type": "stream",
     "text": [
      "814/814 [==============================] - 12s 14ms/step\n"
     ]
    }
   ],
   "source": [
    "# Predict the labels for the test data\n",
    "y_pred = np.argmax(best_model.predict(X_test), axis=-1)"
   ]
  },
  {
   "cell_type": "code",
   "execution_count": 18,
   "id": "15960614",
   "metadata": {},
   "outputs": [
    {
     "name": "stdout",
     "output_type": "stream",
     "text": [
      "Classification Report:\n",
      "              precision    recall  f1-score   support\n",
      "\n",
      "           0       0.92      0.94      0.93      1744\n",
      "           1       0.95      0.96      0.95      5099\n",
      "           2       0.95      0.95      0.95      4149\n",
      "           3       0.91      0.92      0.91      2882\n",
      "           4       0.94      0.96      0.95      2523\n",
      "           5       0.93      0.93      0.93      2384\n",
      "           6       0.91      0.92      0.92      1977\n",
      "           7       0.95      0.92      0.93      2019\n",
      "           8       0.93      0.85      0.89      1660\n",
      "           9       0.90      0.90      0.90      1595\n",
      "\n",
      "    accuracy                           0.93     26032\n",
      "   macro avg       0.93      0.93      0.93     26032\n",
      "weighted avg       0.93      0.93      0.93     26032\n",
      "\n"
     ]
    }
   ],
   "source": [
    "# Generate the classification report\n",
    "print(\"Classification Report:\")\n",
    "print(classification_report(y_test, y_pred))"
   ]
  },
  {
   "cell_type": "code",
   "execution_count": 19,
   "id": "78995531",
   "metadata": {},
   "outputs": [],
   "source": [
    "# Compute the confusion matrix\n",
    "conf_matrix = confusion_matrix(y_test, y_pred)"
   ]
  },
  {
   "cell_type": "code",
   "execution_count": 20,
   "id": "0f867b3f",
   "metadata": {},
   "outputs": [
    {
     "data": {
      "image/png": "[encoded data removed]",
      "text/plain": [
       "<Figure size 1000x800 with 1 Axes>"
      ]
     },
     "metadata": {},
     "output_type": "display_data"
    }
   ],
   "source": [
    "# Plot the confusion matrix using Seaborn's heatmap\n",
    "plt.figure(figsize=(10, 8))\n",
    "sns.heatmap(conf_matrix, annot=True, fmt='d', cmap='Blues', cbar=False, xticklabels=range(10), yticklabels=range(10))\n",
    "plt.xlabel('Predicted')\n",
    "plt.ylabel('Actual')\n",
    "plt.title('Confusion Matrix')\n",
    "plt.show()"
   ]
  }
 ],
 "metadata": {
  "kernelspec": {
   "display_name": "Python 3 (ipykernel)",
   "language": "python",
   "name": "python3"
  },
  "language_info": {
   "codemirror_mode": {
    "name": "ipython",
    "version": 3
   },
   "file_extension": ".py",
   "mimetype": "text/x-python",
   "name": "python",
   "nbconvert_exporter": "python",
   "pygments_lexer": "ipython3",
   "version": "3.11.4"
  }
 },
 "nbformat": 4,
 "nbformat_minor": 5
}
